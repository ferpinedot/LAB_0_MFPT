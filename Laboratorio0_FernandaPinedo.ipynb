{
 "cells": [
  {
   "cell_type": "markdown",
   "metadata": {},
   "source": [
    "<img src=\"http://oci02.img.iteso.mx/identidad_de_instancia_2018/ITESO/Logos%20ITESO/Logo-ITESO-Principal.jpg\">"
   ]
  },
  {
   "cell_type": "markdown",
   "metadata": {},
   "source": [
    "<center> <font color= #004A94> <font size = 6> Lic. Ingeniería Financiera </font> <br> <br> <font color= #047CFB> <font size = 4>I.F. María Fernanda Pinedo Talango - if705971@iteso.mx </font>"
   ]
  },
  {
   "cell_type": "markdown",
   "metadata": {},
   "source": [
    "<center><font color= #004A94> <font size = 6> Microestructura y Sistemas de Trading </font> <br> <br>"
   ]
  },
  {
   "cell_type": "markdown",
   "metadata": {},
   "source": [
    "<center><font color=#42c29b><font size=5> Laboratorio 0: Herramientas Computacionales </font> <br> <br>"
   ]
  },
  {
   "cell_type": "markdown",
   "metadata": {},
   "source": [
    "<center> <font color= #047CFB> <font size = 4> Primavera 2020 </font>  |  <font color= #047CFB> <font size = 4> Repositorio: <a href='https://github.com/'>https://github.com/ferpinedot/LAB_0_MFPT</a></font>"
   ]
  },
  {
   "cell_type": "markdown",
   "metadata": {},
   "source": [
    "---"
   ]
  },
  {
   "cell_type": "markdown",
   "metadata": {},
   "source": [
    "# Resumen"
   ]
  },
  {
   "cell_type": "markdown",
   "metadata": {},
   "source": [
    "Este laboratorio sirve para generar nueva información de los precios a partir de los históricos en formato  OHLC (Open, High, Low, Close). Esta nueva información generada, la mayoría almacenada como nuevas columnas dentro del DataFrame que contiene los precios históricos OHLC, puede ser utilizada también como \"variables explicativas\" en modelos predictivos (ya sean de regresión o de clasificación). El enfóque de los cálculos que deberás de realizar para este laboratorio es \"estadístico\" utilizando información de las \"velas\".  También vas a poner en práctica algunos códigos simples para graficar utilizando la librería de Plotly, todo esto utilizando una lógica de organizar el código con base a \"funciones\" y scripts separados (algo bastante útil para proyectos aplicados de python).\n",
    "\n",
    "Deberás de incluir en esta entrega sólamente la liga del repositorio donde se encuentra tu laboratorio. El repositorio deberá de contener, por lo menos, dos archivos. El script de tus códigos hechos (un archivo .py) y el notebook con tu versión final, donde escribirás texto y código con comentarios (utilizando el formato de notebooks que te pase)."
   ]
  },
  {
   "cell_type": "markdown",
   "metadata": {},
   "source": [
    "# Código"
   ]
  },
  {
   "cell_type": "code",
   "execution_count": 159,
   "metadata": {
    "collapsed": true
   },
   "outputs": [],
   "source": [
    "import datetime                                     # Para visulizacion de tiempo\n",
    "import numpy as np                                  # Para datos numéricos\n",
    "\n",
    "import funciones as fn                              # Para procesamiento de datos\n",
    "import visualizaciones as vs                        # Para visualizacion de datos\n",
    "import pandas as pd                                 # Procesamiento de datos\n",
    "from datos import OA_Ak                             # Importar token para API de OANDA\n",
    "import plotly.express as px                         # Para librería de nueva gráfica al último inciso"
   ]
  },
  {
   "cell_type": "markdown",
   "metadata": {},
   "source": [
    "Descargar precios de OANDA"
   ]
  },
  {
   "cell_type": "code",
   "execution_count": 134,
   "metadata": {
    "collapsed": true
   },
   "outputs": [],
   "source": [
    "OA_In = \"EUR_USD\"                  # Instrumento\n",
    "OA_Gn = \"D\"                        # Granularidad de velas\n",
    "fini = pd.to_datetime(\"2019-07-06 00:00:00\").tz_localize('GMT')  # Fecha inicial\n",
    "ffin = pd.to_datetime(\"2019-12-06 00:00:00\").tz_localize('GMT')  # Fecha final"
   ]
  },
  {
   "cell_type": "markdown",
   "metadata": {},
   "source": [
    "Descargar los precios masivos ya con las especificaciones mencionadas arriba, utilizando funciones para la descarga de datos escritas en la sección de funciones.py"
   ]
  },
  {
   "cell_type": "code",
   "execution_count": 136,
   "metadata": {
    "collapsed": true
   },
   "outputs": [],
   "source": [
    "df_pe = fn.f_precios_masivos(p0_fini=fini, p1_ffin=ffin, p2_gran=OA_Gn,\n",
    "                             p3_inst=OA_In, p4_oatk=OA_Ak, p5_ginc=4900)"
   ]
  },
  {
   "cell_type": "markdown",
   "metadata": {},
   "source": [
    "Graficar Open High Low Close (OHLC) prices en plotly"
   ]
  },
  {
   "cell_type": "code",
   "execution_count": 137,
   "metadata": {
    "collapsed": true
   },
   "outputs": [],
   "source": [
    "vs_grafica1 = vs.g_velas(p0_de=df_pe.iloc[0:120, :])\n",
    "vs_grafica1.show()\n"
   ]
  },
  {
   "cell_type": "markdown",
   "metadata": {},
   "source": [
    "Conteo de velas"
   ]
  },
  {
   "cell_type": "code",
   "execution_count": 138,
   "metadata": {
    "collapsed": true
   },
   "outputs": [],
   "source": [
    "# multiplicador de precios, la diferencia entre una vela y otra suele medirse por medio de pips\n",
    "pip_mult = 10000\n",
    "\n",
    "# -- 0A.1: Hora\n",
    "df_pe['Hora'] = [df_pe['TimeStamp'][i].hour for i in range(0, len(df_pe['TimeStamp']))]\n",
    "\n",
    "# -- 0A.2: Dia de la semana.\n",
    "df_pe['Dia'] = [df_pe['TimeStamp'][i].weekday() for i in range(0, len(df_pe['TimeStamp']))]\n",
    "\n",
    "# -- 0B: Boxplot de amplitud de velas (close - open).\n",
    "df_pe['CO'] = (df_pe['Close'] - df_pe['Open'])*pip_mult\n",
    "\n",
    "# -- ------------------------------------------------------------ Graficar Boxplot plotly -- #\n",
    "vs_grafica2 = vs.g_boxplot_varios(p0_data=df_pe[['CO']], p1_norm=False)\n",
    "vs_grafica2.show()\n"
   ]
  },
  {
   "cell_type": "markdown",
   "metadata": {},
   "source": [
    "## Tarea\n",
    "\n",
    "### Funciones a desarrollar\n"
   ]
  },
  {
   "cell_type": "markdown",
   "metadata": {},
   "source": [
    "##### (1pt) ['mes'] : Mes en el que ocurrió la vela.\n",
    "Utilizando la columna de TimeStamp calcula el \"Mes\" en el que ocurrió la vela."
   ]
  },
  {
   "cell_type": "markdown",
   "metadata": {},
   "source": [
    "Este ejercicio fue muy similar al visto en clase, en donde se utilizó compresión de listas para encontrar el mes en el TimeStamp en toda la longitud de la columna TimeStamp"
   ]
  },
  {
   "cell_type": "code",
   "execution_count": 139,
   "metadata": {
    "collapsed": true
   },
   "outputs": [],
   "source": [
    "df_pe['Mes'] = [df_pe['TimeStamp'][i].month for i in range(0, len(df_pe['TimeStamp']))]"
   ]
  },
  {
   "cell_type": "code",
   "execution_count": 140,
   "metadata": {},
   "outputs": [
    {
     "data": {
      "text/html": [
       "<div>\n",
       "<style scoped>\n",
       "    .dataframe tbody tr th:only-of-type {\n",
       "        vertical-align: middle;\n",
       "    }\n",
       "\n",
       "    .dataframe tbody tr th {\n",
       "        vertical-align: top;\n",
       "    }\n",
       "\n",
       "    .dataframe thead th {\n",
       "        text-align: right;\n",
       "    }\n",
       "</style>\n",
       "<table border=\"1\" class=\"dataframe\">\n",
       "  <thead>\n",
       "    <tr style=\"text-align: right;\">\n",
       "      <th></th>\n",
       "      <th>TimeStamp</th>\n",
       "      <th>Open</th>\n",
       "      <th>High</th>\n",
       "      <th>Low</th>\n",
       "      <th>Close</th>\n",
       "      <th>Hora</th>\n",
       "      <th>Dia</th>\n",
       "      <th>CO</th>\n",
       "      <th>Mes</th>\n",
       "    </tr>\n",
       "  </thead>\n",
       "  <tbody>\n",
       "    <tr>\n",
       "      <th>0</th>\n",
       "      <td>2019-07-05 20:00:00+00:00</td>\n",
       "      <td>1.12264</td>\n",
       "      <td>1.12278</td>\n",
       "      <td>1.12247</td>\n",
       "      <td>1.12255</td>\n",
       "      <td>20</td>\n",
       "      <td>4</td>\n",
       "      <td>-0.9</td>\n",
       "      <td>7</td>\n",
       "    </tr>\n",
       "    <tr>\n",
       "      <th>1</th>\n",
       "      <td>2019-07-07 20:00:00+00:00</td>\n",
       "      <td>1.12248</td>\n",
       "      <td>1.12344</td>\n",
       "      <td>1.12071</td>\n",
       "      <td>1.12093</td>\n",
       "      <td>20</td>\n",
       "      <td>6</td>\n",
       "      <td>-15.5</td>\n",
       "      <td>7</td>\n",
       "    </tr>\n",
       "    <tr>\n",
       "      <th>2</th>\n",
       "      <td>2019-07-08 20:00:00+00:00</td>\n",
       "      <td>1.12095</td>\n",
       "      <td>1.12188</td>\n",
       "      <td>1.11935</td>\n",
       "      <td>1.12066</td>\n",
       "      <td>20</td>\n",
       "      <td>0</td>\n",
       "      <td>-2.9</td>\n",
       "      <td>7</td>\n",
       "    </tr>\n",
       "    <tr>\n",
       "      <th>3</th>\n",
       "      <td>2019-07-09 20:00:00+00:00</td>\n",
       "      <td>1.12070</td>\n",
       "      <td>1.12643</td>\n",
       "      <td>1.12020</td>\n",
       "      <td>1.12536</td>\n",
       "      <td>20</td>\n",
       "      <td>1</td>\n",
       "      <td>46.6</td>\n",
       "      <td>7</td>\n",
       "    </tr>\n",
       "    <tr>\n",
       "      <th>4</th>\n",
       "      <td>2019-07-10 20:00:00+00:00</td>\n",
       "      <td>1.12533</td>\n",
       "      <td>1.12858</td>\n",
       "      <td>1.12454</td>\n",
       "      <td>1.12570</td>\n",
       "      <td>20</td>\n",
       "      <td>2</td>\n",
       "      <td>3.7</td>\n",
       "      <td>7</td>\n",
       "    </tr>\n",
       "  </tbody>\n",
       "</table>\n",
       "</div>"
      ],
      "text/plain": [
       "                  TimeStamp     Open     High      Low    Close  Hora  Dia  \\\n",
       "0 2019-07-05 20:00:00+00:00  1.12264  1.12278  1.12247  1.12255    20    4   \n",
       "1 2019-07-07 20:00:00+00:00  1.12248  1.12344  1.12071  1.12093    20    6   \n",
       "2 2019-07-08 20:00:00+00:00  1.12095  1.12188  1.11935  1.12066    20    0   \n",
       "3 2019-07-09 20:00:00+00:00  1.12070  1.12643  1.12020  1.12536    20    1   \n",
       "4 2019-07-10 20:00:00+00:00  1.12533  1.12858  1.12454  1.12570    20    2   \n",
       "\n",
       "     CO  Mes  \n",
       "0  -0.9    7  \n",
       "1 -15.5    7  \n",
       "2  -2.9    7  \n",
       "3  46.6    7  \n",
       "4   3.7    7  "
      ]
     },
     "execution_count": 140,
     "metadata": {},
     "output_type": "execute_result"
    }
   ],
   "source": [
    "df_pe.head()"
   ]
  },
  {
   "cell_type": "markdown",
   "metadata": {
    "collapsed": true
   },
   "source": [
    "##### (1pt) ['sesion'] : Sesión de la vela\n",
    "Sesión bursátil en la que ocurrió la vela,  el valor dentro de la columna deberás de colocarlo siguiendo la siguiente regla:\n",
    "\n",
    "* 'asia':  si en la columna ['hora'] tiene alguno de estos valores -> 22, 23, 0, 1, 2, 3, 4, 5, 6, 7\n",
    "* 'asia_europa': si en la columna ['hora'] tiene alguno de estos valores -> 8\n",
    "* 'europa': si en la columna ['hora'] tiene alguno de estos valores -> 9, 10, 11, 12 \n",
    "* 'europa_america': si en la columna ['hora'] tiene alguno de estos valores -> 13, 14, 15, 16\n",
    "* 'america': si en la columna ['hora'] tiene alguno de estos valores -> 17, 18, 19, 20, 21\n",
    "\n",
    "Recuerda que el ['TimeStamp'] de los precios que están descargándose en el código está en huso horario UTC, así que no aplicará a las horas de Guadalajara\", sino, a las horas de cualquier centro bursátil que esté bajo el huso horario UTC, como lo es el caso de Londres que tiene huso horario GMT = 0."
   ]
  },
  {
   "cell_type": "code",
   "execution_count": 141,
   "metadata": {
    "collapsed": true
   },
   "outputs": [],
   "source": [
    "# Con las horas dadas previamente, se hace una clasificación de en qué Zona Horaria se realizaron los movimientos\n",
    "\n",
    "def sesion(hora):\n",
    "    if hora in [22, 23, 0, 1, 2, 3, 4, 5, 6, 7]: \n",
    "        TimeZone = 'Asia'\n",
    "    elif hora in [8]:\n",
    "        TimeZone = 'Asia_Europa'\n",
    "    elif hora in [9, 10, 11, 12]:\n",
    "        TimeZone = 'Europa'\n",
    "    elif hora in [13, 14, 15, 16]:\n",
    "        TimeZone = 'Europa_America'\n",
    "    else:\n",
    "        TimeZone = 'America'\n",
    "    return TimeZone"
   ]
  },
  {
   "cell_type": "code",
   "execution_count": 142,
   "metadata": {
    "collapsed": true
   },
   "outputs": [],
   "source": [
    "# Para indicar en que uso horario de los mencionados anteriormente, se ubican en este caso los primeros 5\n",
    "# movimientos de todos los descargados \n",
    "\n",
    "df_pe['Sesión de la vela'] = [sesion(int(df_pe['Hora'][i])) for i in range(0, len(df_pe['Hora']))]"
   ]
  },
  {
   "cell_type": "code",
   "execution_count": 143,
   "metadata": {},
   "outputs": [
    {
     "data": {
      "text/html": [
       "<div>\n",
       "<style scoped>\n",
       "    .dataframe tbody tr th:only-of-type {\n",
       "        vertical-align: middle;\n",
       "    }\n",
       "\n",
       "    .dataframe tbody tr th {\n",
       "        vertical-align: top;\n",
       "    }\n",
       "\n",
       "    .dataframe thead th {\n",
       "        text-align: right;\n",
       "    }\n",
       "</style>\n",
       "<table border=\"1\" class=\"dataframe\">\n",
       "  <thead>\n",
       "    <tr style=\"text-align: right;\">\n",
       "      <th></th>\n",
       "      <th>TimeStamp</th>\n",
       "      <th>Open</th>\n",
       "      <th>High</th>\n",
       "      <th>Low</th>\n",
       "      <th>Close</th>\n",
       "      <th>Hora</th>\n",
       "      <th>Dia</th>\n",
       "      <th>CO</th>\n",
       "      <th>Mes</th>\n",
       "      <th>Sesión de la vela</th>\n",
       "    </tr>\n",
       "  </thead>\n",
       "  <tbody>\n",
       "    <tr>\n",
       "      <th>0</th>\n",
       "      <td>2019-07-05 20:00:00+00:00</td>\n",
       "      <td>1.12264</td>\n",
       "      <td>1.12278</td>\n",
       "      <td>1.12247</td>\n",
       "      <td>1.12255</td>\n",
       "      <td>20</td>\n",
       "      <td>4</td>\n",
       "      <td>-0.9</td>\n",
       "      <td>7</td>\n",
       "      <td>America</td>\n",
       "    </tr>\n",
       "    <tr>\n",
       "      <th>1</th>\n",
       "      <td>2019-07-07 20:00:00+00:00</td>\n",
       "      <td>1.12248</td>\n",
       "      <td>1.12344</td>\n",
       "      <td>1.12071</td>\n",
       "      <td>1.12093</td>\n",
       "      <td>20</td>\n",
       "      <td>6</td>\n",
       "      <td>-15.5</td>\n",
       "      <td>7</td>\n",
       "      <td>America</td>\n",
       "    </tr>\n",
       "    <tr>\n",
       "      <th>2</th>\n",
       "      <td>2019-07-08 20:00:00+00:00</td>\n",
       "      <td>1.12095</td>\n",
       "      <td>1.12188</td>\n",
       "      <td>1.11935</td>\n",
       "      <td>1.12066</td>\n",
       "      <td>20</td>\n",
       "      <td>0</td>\n",
       "      <td>-2.9</td>\n",
       "      <td>7</td>\n",
       "      <td>America</td>\n",
       "    </tr>\n",
       "    <tr>\n",
       "      <th>3</th>\n",
       "      <td>2019-07-09 20:00:00+00:00</td>\n",
       "      <td>1.12070</td>\n",
       "      <td>1.12643</td>\n",
       "      <td>1.12020</td>\n",
       "      <td>1.12536</td>\n",
       "      <td>20</td>\n",
       "      <td>1</td>\n",
       "      <td>46.6</td>\n",
       "      <td>7</td>\n",
       "      <td>America</td>\n",
       "    </tr>\n",
       "    <tr>\n",
       "      <th>4</th>\n",
       "      <td>2019-07-10 20:00:00+00:00</td>\n",
       "      <td>1.12533</td>\n",
       "      <td>1.12858</td>\n",
       "      <td>1.12454</td>\n",
       "      <td>1.12570</td>\n",
       "      <td>20</td>\n",
       "      <td>2</td>\n",
       "      <td>3.7</td>\n",
       "      <td>7</td>\n",
       "      <td>America</td>\n",
       "    </tr>\n",
       "  </tbody>\n",
       "</table>\n",
       "</div>"
      ],
      "text/plain": [
       "                  TimeStamp     Open     High      Low    Close  Hora  Dia  \\\n",
       "0 2019-07-05 20:00:00+00:00  1.12264  1.12278  1.12247  1.12255    20    4   \n",
       "1 2019-07-07 20:00:00+00:00  1.12248  1.12344  1.12071  1.12093    20    6   \n",
       "2 2019-07-08 20:00:00+00:00  1.12095  1.12188  1.11935  1.12066    20    0   \n",
       "3 2019-07-09 20:00:00+00:00  1.12070  1.12643  1.12020  1.12536    20    1   \n",
       "4 2019-07-10 20:00:00+00:00  1.12533  1.12858  1.12454  1.12570    20    2   \n",
       "\n",
       "     CO  Mes Sesión de la vela  \n",
       "0  -0.9    7           America  \n",
       "1 -15.5    7           America  \n",
       "2  -2.9    7           America  \n",
       "3  46.6    7           America  \n",
       "4   3.7    7           America  "
      ]
     },
     "execution_count": 143,
     "metadata": {},
     "output_type": "execute_result"
    }
   ],
   "source": [
    "df_pe.head()"
   ]
  },
  {
   "cell_type": "markdown",
   "metadata": {},
   "source": [
    "##### (1pt) ['oc']: Amplitud de vela (en pips).\n",
    "Calcular la diferencia entre las columnas ['Open'] y ['Close'], expresarla en pips."
   ]
  },
  {
   "cell_type": "markdown",
   "metadata": {},
   "source": [
    "Como se había mencionado anteriormente, la diferencia entre velas, normalmente es expresado en pips, los cuales son equivalentes a 10,000 unidades. En el caso a continuación, se mide la diferencia en pips del precio de apertura, con respecto al precio de cierre (una resta)."
   ]
  },
  {
   "cell_type": "code",
   "execution_count": 144,
   "metadata": {
    "collapsed": true
   },
   "outputs": [],
   "source": [
    "# Se realiza la resta de las dos columnas por fila y la diferencia resultante por fila, se multiplica por 10,000 unidades \n",
    "# (un pip)\n",
    "\n",
    "df_pe['OC'] = (df_pe['Open'] - df_pe['Close'])*pip_mult"
   ]
  },
  {
   "cell_type": "code",
   "execution_count": 145,
   "metadata": {},
   "outputs": [
    {
     "data": {
      "text/html": [
       "<div>\n",
       "<style scoped>\n",
       "    .dataframe tbody tr th:only-of-type {\n",
       "        vertical-align: middle;\n",
       "    }\n",
       "\n",
       "    .dataframe tbody tr th {\n",
       "        vertical-align: top;\n",
       "    }\n",
       "\n",
       "    .dataframe thead th {\n",
       "        text-align: right;\n",
       "    }\n",
       "</style>\n",
       "<table border=\"1\" class=\"dataframe\">\n",
       "  <thead>\n",
       "    <tr style=\"text-align: right;\">\n",
       "      <th></th>\n",
       "      <th>TimeStamp</th>\n",
       "      <th>Open</th>\n",
       "      <th>High</th>\n",
       "      <th>Low</th>\n",
       "      <th>Close</th>\n",
       "      <th>Hora</th>\n",
       "      <th>Dia</th>\n",
       "      <th>CO</th>\n",
       "      <th>Mes</th>\n",
       "      <th>Sesión de la vela</th>\n",
       "      <th>OC</th>\n",
       "    </tr>\n",
       "  </thead>\n",
       "  <tbody>\n",
       "    <tr>\n",
       "      <th>0</th>\n",
       "      <td>2019-07-05 20:00:00+00:00</td>\n",
       "      <td>1.12264</td>\n",
       "      <td>1.12278</td>\n",
       "      <td>1.12247</td>\n",
       "      <td>1.12255</td>\n",
       "      <td>20</td>\n",
       "      <td>4</td>\n",
       "      <td>-0.9</td>\n",
       "      <td>7</td>\n",
       "      <td>America</td>\n",
       "      <td>0.9</td>\n",
       "    </tr>\n",
       "    <tr>\n",
       "      <th>1</th>\n",
       "      <td>2019-07-07 20:00:00+00:00</td>\n",
       "      <td>1.12248</td>\n",
       "      <td>1.12344</td>\n",
       "      <td>1.12071</td>\n",
       "      <td>1.12093</td>\n",
       "      <td>20</td>\n",
       "      <td>6</td>\n",
       "      <td>-15.5</td>\n",
       "      <td>7</td>\n",
       "      <td>America</td>\n",
       "      <td>15.5</td>\n",
       "    </tr>\n",
       "    <tr>\n",
       "      <th>2</th>\n",
       "      <td>2019-07-08 20:00:00+00:00</td>\n",
       "      <td>1.12095</td>\n",
       "      <td>1.12188</td>\n",
       "      <td>1.11935</td>\n",
       "      <td>1.12066</td>\n",
       "      <td>20</td>\n",
       "      <td>0</td>\n",
       "      <td>-2.9</td>\n",
       "      <td>7</td>\n",
       "      <td>America</td>\n",
       "      <td>2.9</td>\n",
       "    </tr>\n",
       "    <tr>\n",
       "      <th>3</th>\n",
       "      <td>2019-07-09 20:00:00+00:00</td>\n",
       "      <td>1.12070</td>\n",
       "      <td>1.12643</td>\n",
       "      <td>1.12020</td>\n",
       "      <td>1.12536</td>\n",
       "      <td>20</td>\n",
       "      <td>1</td>\n",
       "      <td>46.6</td>\n",
       "      <td>7</td>\n",
       "      <td>America</td>\n",
       "      <td>-46.6</td>\n",
       "    </tr>\n",
       "    <tr>\n",
       "      <th>4</th>\n",
       "      <td>2019-07-10 20:00:00+00:00</td>\n",
       "      <td>1.12533</td>\n",
       "      <td>1.12858</td>\n",
       "      <td>1.12454</td>\n",
       "      <td>1.12570</td>\n",
       "      <td>20</td>\n",
       "      <td>2</td>\n",
       "      <td>3.7</td>\n",
       "      <td>7</td>\n",
       "      <td>America</td>\n",
       "      <td>-3.7</td>\n",
       "    </tr>\n",
       "  </tbody>\n",
       "</table>\n",
       "</div>"
      ],
      "text/plain": [
       "                  TimeStamp     Open     High      Low    Close  Hora  Dia  \\\n",
       "0 2019-07-05 20:00:00+00:00  1.12264  1.12278  1.12247  1.12255    20    4   \n",
       "1 2019-07-07 20:00:00+00:00  1.12248  1.12344  1.12071  1.12093    20    6   \n",
       "2 2019-07-08 20:00:00+00:00  1.12095  1.12188  1.11935  1.12066    20    0   \n",
       "3 2019-07-09 20:00:00+00:00  1.12070  1.12643  1.12020  1.12536    20    1   \n",
       "4 2019-07-10 20:00:00+00:00  1.12533  1.12858  1.12454  1.12570    20    2   \n",
       "\n",
       "     CO  Mes Sesión de la vela    OC  \n",
       "0  -0.9    7           America   0.9  \n",
       "1 -15.5    7           America  15.5  \n",
       "2  -2.9    7           America   2.9  \n",
       "3  46.6    7           America -46.6  \n",
       "4   3.7    7           America  -3.7  "
      ]
     },
     "execution_count": 145,
     "metadata": {},
     "output_type": "execute_result"
    }
   ],
   "source": [
    "df_pe.head()"
   ]
  },
  {
   "cell_type": "markdown",
   "metadata": {},
   "source": [
    "##### (1pt) ['hl']: Amplitud de extremos (en pips).\n",
    "Calcular la diferencia entre las columnas ['High'] y ['Low'], expresarla en pips."
   ]
  },
  {
   "cell_type": "markdown",
   "metadata": {},
   "source": [
    "En el caso de amplitud de extremos, conocidos como las líneas que salen de la misma vela hacia arriba o hacia abajo, se hace una medición, igualmente en pips, de la diferencia que hay entre el precio más alto en el momento, contra el precio más bajo"
   ]
  },
  {
   "cell_type": "code",
   "execution_count": 146,
   "metadata": {
    "collapsed": true
   },
   "outputs": [],
   "source": [
    "# Se realiza la resta de las dos columnas por fila y la diferencia resultante por fila se multiplica por 10,000 unidades (un pip)\n",
    "\n",
    "df_pe['HL'] = (df_pe['High'] - df_pe['Low'])*pip_mult"
   ]
  },
  {
   "cell_type": "code",
   "execution_count": 147,
   "metadata": {},
   "outputs": [
    {
     "data": {
      "text/html": [
       "<div>\n",
       "<style scoped>\n",
       "    .dataframe tbody tr th:only-of-type {\n",
       "        vertical-align: middle;\n",
       "    }\n",
       "\n",
       "    .dataframe tbody tr th {\n",
       "        vertical-align: top;\n",
       "    }\n",
       "\n",
       "    .dataframe thead th {\n",
       "        text-align: right;\n",
       "    }\n",
       "</style>\n",
       "<table border=\"1\" class=\"dataframe\">\n",
       "  <thead>\n",
       "    <tr style=\"text-align: right;\">\n",
       "      <th></th>\n",
       "      <th>TimeStamp</th>\n",
       "      <th>Open</th>\n",
       "      <th>High</th>\n",
       "      <th>Low</th>\n",
       "      <th>Close</th>\n",
       "      <th>Hora</th>\n",
       "      <th>Dia</th>\n",
       "      <th>CO</th>\n",
       "      <th>Mes</th>\n",
       "      <th>Sesión de la vela</th>\n",
       "      <th>OC</th>\n",
       "      <th>HL</th>\n",
       "    </tr>\n",
       "  </thead>\n",
       "  <tbody>\n",
       "    <tr>\n",
       "      <th>0</th>\n",
       "      <td>2019-07-05 20:00:00+00:00</td>\n",
       "      <td>1.12264</td>\n",
       "      <td>1.12278</td>\n",
       "      <td>1.12247</td>\n",
       "      <td>1.12255</td>\n",
       "      <td>20</td>\n",
       "      <td>4</td>\n",
       "      <td>-0.9</td>\n",
       "      <td>7</td>\n",
       "      <td>America</td>\n",
       "      <td>0.9</td>\n",
       "      <td>3.1</td>\n",
       "    </tr>\n",
       "    <tr>\n",
       "      <th>1</th>\n",
       "      <td>2019-07-07 20:00:00+00:00</td>\n",
       "      <td>1.12248</td>\n",
       "      <td>1.12344</td>\n",
       "      <td>1.12071</td>\n",
       "      <td>1.12093</td>\n",
       "      <td>20</td>\n",
       "      <td>6</td>\n",
       "      <td>-15.5</td>\n",
       "      <td>7</td>\n",
       "      <td>America</td>\n",
       "      <td>15.5</td>\n",
       "      <td>27.3</td>\n",
       "    </tr>\n",
       "    <tr>\n",
       "      <th>2</th>\n",
       "      <td>2019-07-08 20:00:00+00:00</td>\n",
       "      <td>1.12095</td>\n",
       "      <td>1.12188</td>\n",
       "      <td>1.11935</td>\n",
       "      <td>1.12066</td>\n",
       "      <td>20</td>\n",
       "      <td>0</td>\n",
       "      <td>-2.9</td>\n",
       "      <td>7</td>\n",
       "      <td>America</td>\n",
       "      <td>2.9</td>\n",
       "      <td>25.3</td>\n",
       "    </tr>\n",
       "    <tr>\n",
       "      <th>3</th>\n",
       "      <td>2019-07-09 20:00:00+00:00</td>\n",
       "      <td>1.12070</td>\n",
       "      <td>1.12643</td>\n",
       "      <td>1.12020</td>\n",
       "      <td>1.12536</td>\n",
       "      <td>20</td>\n",
       "      <td>1</td>\n",
       "      <td>46.6</td>\n",
       "      <td>7</td>\n",
       "      <td>America</td>\n",
       "      <td>-46.6</td>\n",
       "      <td>62.3</td>\n",
       "    </tr>\n",
       "    <tr>\n",
       "      <th>4</th>\n",
       "      <td>2019-07-10 20:00:00+00:00</td>\n",
       "      <td>1.12533</td>\n",
       "      <td>1.12858</td>\n",
       "      <td>1.12454</td>\n",
       "      <td>1.12570</td>\n",
       "      <td>20</td>\n",
       "      <td>2</td>\n",
       "      <td>3.7</td>\n",
       "      <td>7</td>\n",
       "      <td>America</td>\n",
       "      <td>-3.7</td>\n",
       "      <td>40.4</td>\n",
       "    </tr>\n",
       "  </tbody>\n",
       "</table>\n",
       "</div>"
      ],
      "text/plain": [
       "                  TimeStamp     Open     High      Low    Close  Hora  Dia  \\\n",
       "0 2019-07-05 20:00:00+00:00  1.12264  1.12278  1.12247  1.12255    20    4   \n",
       "1 2019-07-07 20:00:00+00:00  1.12248  1.12344  1.12071  1.12093    20    6   \n",
       "2 2019-07-08 20:00:00+00:00  1.12095  1.12188  1.11935  1.12066    20    0   \n",
       "3 2019-07-09 20:00:00+00:00  1.12070  1.12643  1.12020  1.12536    20    1   \n",
       "4 2019-07-10 20:00:00+00:00  1.12533  1.12858  1.12454  1.12570    20    2   \n",
       "\n",
       "     CO  Mes Sesión de la vela    OC    HL  \n",
       "0  -0.9    7           America   0.9   3.1  \n",
       "1 -15.5    7           America  15.5  27.3  \n",
       "2  -2.9    7           America   2.9  25.3  \n",
       "3  46.6    7           America -46.6  62.3  \n",
       "4   3.7    7           America  -3.7  40.4  "
      ]
     },
     "execution_count": 147,
     "metadata": {},
     "output_type": "execute_result"
    }
   ],
   "source": [
    "df_pe.head()"
   ]
  },
  {
   "cell_type": "markdown",
   "metadata": {},
   "source": [
    "##### (.5pt) ['sentido'] : Sentido de la vela (alcista o bajista)\n",
    "En esta columna debes de asignarle el valor de 'alcista' para cuando ['Close'] >= ['Open'] y 'bajista' en el caso contrario.\n"
   ]
  },
  {
   "cell_type": "markdown",
   "metadata": {},
   "source": [
    "Para saber si el sentido de la vela es alcista o bajista, es necesario saber la diferencia entre el precio de Cierre con el precio de Apertura, si el precio de Cierre es mayor que el precio de Apertura, la vela tiene una tendencia alcista ya que aumentó el valor de la divisa (en este caso), en caso contrario, que el precio de Cierre sea menor al precio de Apertura, se trata de una tendencia bajista, debido a que el valor de la divisa disminuyó."
   ]
  },
  {
   "cell_type": "code",
   "execution_count": 148,
   "metadata": {
    "collapsed": true
   },
   "outputs": [],
   "source": [
    "# Para saber si el precio es positivo o negativo, se hacen las validaciones con un if mencionando que si la diferencia \n",
    "# entre el precio de Cierre con el precio de Apertura es mayor o igual a cero, entonces el sentido de la vela sería alcista\n",
    "# a diferencia contraria de que si el sentido es menor a cero, se trataría de una tendencia bajista\n",
    "\n",
    "\n",
    "def sentido(CO):\n",
    "    if CO >= 0:\n",
    "        sentido = 'alcista'\n",
    "    else:\n",
    "        sentido = 'bajista'\n",
    "    return sentido\n",
    "\n",
    "\n",
    "# A continuación convertí los resultados de las tendencias alcistas con un valor de 1, y las bajistas con un valor de -1 para\n",
    "# posteriormente poder sumarlas y contar, haciendo patrones de cada cuántas tendencias alcistas, sigue una bajista y poder \n",
    "# tratar de predecir el comportamiento de las velas en esta divisa\n",
    "\n",
    "def sentido_int(sentido):\n",
    "    if sentido == 'alcista':\n",
    "        sentido_int = 1\n",
    "    else:\n",
    "        sentido_int = -1\n",
    "    return sentido_int\n",
    "        "
   ]
  },
  {
   "cell_type": "code",
   "execution_count": 149,
   "metadata": {
    "collapsed": true
   },
   "outputs": [],
   "source": [
    "df_pe['Sentido de la vela'] = [sentido(int(df_pe['CO'][i])) for i in range(0, len(df_pe['CO']))]"
   ]
  },
  {
   "cell_type": "code",
   "execution_count": 150,
   "metadata": {
    "collapsed": true
   },
   "outputs": [],
   "source": [
    "df_pe['Sentido en num'] = [sentido_int(str(df_pe['Sentido de la vela'][i])) for i in range(0, len(df_pe['Sentido de la vela']))]"
   ]
  },
  {
   "cell_type": "code",
   "execution_count": 151,
   "metadata": {},
   "outputs": [
    {
     "data": {
      "text/html": [
       "<div>\n",
       "<style scoped>\n",
       "    .dataframe tbody tr th:only-of-type {\n",
       "        vertical-align: middle;\n",
       "    }\n",
       "\n",
       "    .dataframe tbody tr th {\n",
       "        vertical-align: top;\n",
       "    }\n",
       "\n",
       "    .dataframe thead th {\n",
       "        text-align: right;\n",
       "    }\n",
       "</style>\n",
       "<table border=\"1\" class=\"dataframe\">\n",
       "  <thead>\n",
       "    <tr style=\"text-align: right;\">\n",
       "      <th></th>\n",
       "      <th>TimeStamp</th>\n",
       "      <th>Open</th>\n",
       "      <th>High</th>\n",
       "      <th>Low</th>\n",
       "      <th>Close</th>\n",
       "      <th>Hora</th>\n",
       "      <th>Dia</th>\n",
       "      <th>CO</th>\n",
       "      <th>Mes</th>\n",
       "      <th>Sesión de la vela</th>\n",
       "      <th>OC</th>\n",
       "      <th>HL</th>\n",
       "      <th>Sentido de la vela</th>\n",
       "      <th>Sentido en num</th>\n",
       "    </tr>\n",
       "  </thead>\n",
       "  <tbody>\n",
       "    <tr>\n",
       "      <th>0</th>\n",
       "      <td>2019-07-05 20:00:00+00:00</td>\n",
       "      <td>1.12264</td>\n",
       "      <td>1.12278</td>\n",
       "      <td>1.12247</td>\n",
       "      <td>1.12255</td>\n",
       "      <td>20</td>\n",
       "      <td>4</td>\n",
       "      <td>-0.9</td>\n",
       "      <td>7</td>\n",
       "      <td>America</td>\n",
       "      <td>0.9</td>\n",
       "      <td>3.1</td>\n",
       "      <td>alcista</td>\n",
       "      <td>1</td>\n",
       "    </tr>\n",
       "    <tr>\n",
       "      <th>1</th>\n",
       "      <td>2019-07-07 20:00:00+00:00</td>\n",
       "      <td>1.12248</td>\n",
       "      <td>1.12344</td>\n",
       "      <td>1.12071</td>\n",
       "      <td>1.12093</td>\n",
       "      <td>20</td>\n",
       "      <td>6</td>\n",
       "      <td>-15.5</td>\n",
       "      <td>7</td>\n",
       "      <td>America</td>\n",
       "      <td>15.5</td>\n",
       "      <td>27.3</td>\n",
       "      <td>bajista</td>\n",
       "      <td>-1</td>\n",
       "    </tr>\n",
       "    <tr>\n",
       "      <th>2</th>\n",
       "      <td>2019-07-08 20:00:00+00:00</td>\n",
       "      <td>1.12095</td>\n",
       "      <td>1.12188</td>\n",
       "      <td>1.11935</td>\n",
       "      <td>1.12066</td>\n",
       "      <td>20</td>\n",
       "      <td>0</td>\n",
       "      <td>-2.9</td>\n",
       "      <td>7</td>\n",
       "      <td>America</td>\n",
       "      <td>2.9</td>\n",
       "      <td>25.3</td>\n",
       "      <td>bajista</td>\n",
       "      <td>-1</td>\n",
       "    </tr>\n",
       "    <tr>\n",
       "      <th>3</th>\n",
       "      <td>2019-07-09 20:00:00+00:00</td>\n",
       "      <td>1.12070</td>\n",
       "      <td>1.12643</td>\n",
       "      <td>1.12020</td>\n",
       "      <td>1.12536</td>\n",
       "      <td>20</td>\n",
       "      <td>1</td>\n",
       "      <td>46.6</td>\n",
       "      <td>7</td>\n",
       "      <td>America</td>\n",
       "      <td>-46.6</td>\n",
       "      <td>62.3</td>\n",
       "      <td>alcista</td>\n",
       "      <td>1</td>\n",
       "    </tr>\n",
       "    <tr>\n",
       "      <th>4</th>\n",
       "      <td>2019-07-10 20:00:00+00:00</td>\n",
       "      <td>1.12533</td>\n",
       "      <td>1.12858</td>\n",
       "      <td>1.12454</td>\n",
       "      <td>1.12570</td>\n",
       "      <td>20</td>\n",
       "      <td>2</td>\n",
       "      <td>3.7</td>\n",
       "      <td>7</td>\n",
       "      <td>America</td>\n",
       "      <td>-3.7</td>\n",
       "      <td>40.4</td>\n",
       "      <td>alcista</td>\n",
       "      <td>1</td>\n",
       "    </tr>\n",
       "  </tbody>\n",
       "</table>\n",
       "</div>"
      ],
      "text/plain": [
       "                  TimeStamp     Open     High      Low    Close  Hora  Dia  \\\n",
       "0 2019-07-05 20:00:00+00:00  1.12264  1.12278  1.12247  1.12255    20    4   \n",
       "1 2019-07-07 20:00:00+00:00  1.12248  1.12344  1.12071  1.12093    20    6   \n",
       "2 2019-07-08 20:00:00+00:00  1.12095  1.12188  1.11935  1.12066    20    0   \n",
       "3 2019-07-09 20:00:00+00:00  1.12070  1.12643  1.12020  1.12536    20    1   \n",
       "4 2019-07-10 20:00:00+00:00  1.12533  1.12858  1.12454  1.12570    20    2   \n",
       "\n",
       "     CO  Mes Sesión de la vela    OC    HL Sentido de la vela  Sentido en num  \n",
       "0  -0.9    7           America   0.9   3.1            alcista               1  \n",
       "1 -15.5    7           America  15.5  27.3            bajista              -1  \n",
       "2  -2.9    7           America   2.9  25.3            bajista              -1  \n",
       "3  46.6    7           America -46.6  62.3            alcista               1  \n",
       "4   3.7    7           America  -3.7  40.4            alcista               1  "
      ]
     },
     "execution_count": 151,
     "metadata": {},
     "output_type": "execute_result"
    }
   ],
   "source": [
    "df_pe.head()"
   ]
  },
  {
   "cell_type": "markdown",
   "metadata": {},
   "source": [
    "##### (.5pt) ['sentido_c'] Conteo de velas consecutivas alcistas/bajistas.\n",
    "\n",
    "En el DataFrame de los precios OHLC, para cada renglon, ir acumulando el valor de velas consecutivas ALCISTAS o BAJISTAS e ir haciendo el conteo de ocurrencia para cada caso. Se comienza el conteo a partir de la primera repetición, por ejemplo, ['sentido_c'] tendrá un 2  en el tiempo t cuando en el tiempo t-2 y tiempo t-1 haya sido el mismo valor que en el tiempo t. En este ejemplo ['sentido_c'] tendría un 2 (en el tiempo t-2 fue la primera vela, y la vela en tiempo t-1 y en tiempo t fueron 2 velas fueron consecutivamente en el mismo sentido)."
   ]
  },
  {
   "cell_type": "markdown",
   "metadata": {},
   "source": []
  },
  {
   "cell_type": "markdown",
   "metadata": {},
   "source": [
    "En el caso de conteo de velas, definí sentido_c como el conteo del sentido_int que es la columna de los sentidos alcista y bajista determinadas por números para poder así sumarlos, la suma sería como ejemplo el primer valor en este caso de la columna sentido_c en la primera fila sería 0, ya que solo hubo tendencia alcista, de la segunda fila sería igualmente 0 ya que alcista es diferente a bajista, pero en la tercera fila sería un 1 ya que una vez se repitió la tendencia bajista, y en la cuarta fila, sería 0 de nuevo ya que alcista y bajista son diferentes"
   ]
  },
  {
   "cell_type": "code",
   "execution_count": 174,
   "metadata": {},
   "outputs": [],
   "source": [
    "def conteo_velas(count, alcista, bajista):\n",
    "        if 'alcista' == 'alcista':\n",
    "            count += 1\n",
    "        elif 'bajista' == 'bajista':\n",
    "            count += 1\n",
    "        else: \n",
    "            count = 0\n",
    "        return count"
   ]
  },
  {
   "cell_type": "code",
   "execution_count": 176,
   "metadata": {},
   "outputs": [
    {
     "ename": "TypeError",
     "evalue": "conteo_velas() missing 2 required positional arguments: 'alcista' and 'bajista'",
     "output_type": "error",
     "traceback": [
      "\u001b[1;31m---------------------------------------------------------------------------\u001b[0m",
      "\u001b[1;31mTypeError\u001b[0m                                 Traceback (most recent call last)",
      "\u001b[1;32m<ipython-input-176-547afeb91e35>\u001b[0m in \u001b[0;36m<module>\u001b[1;34m\u001b[0m\n\u001b[1;32m----> 1\u001b[1;33m \u001b[0mdf_pe\u001b[0m\u001b[1;33m[\u001b[0m\u001b[1;34m'Sentido_C'\u001b[0m\u001b[1;33m]\u001b[0m \u001b[1;33m=\u001b[0m \u001b[1;33m[\u001b[0m\u001b[0mconteo_velas\u001b[0m\u001b[1;33m(\u001b[0m\u001b[0mstr\u001b[0m\u001b[1;33m(\u001b[0m\u001b[0mdf_pe\u001b[0m\u001b[1;33m[\u001b[0m\u001b[1;34m'Sentido en num'\u001b[0m\u001b[1;33m]\u001b[0m\u001b[1;33m[\u001b[0m\u001b[0mi\u001b[0m\u001b[1;33m]\u001b[0m\u001b[1;33m)\u001b[0m\u001b[1;33m)\u001b[0m \u001b[1;32mfor\u001b[0m \u001b[0mi\u001b[0m \u001b[1;32min\u001b[0m \u001b[0mrange\u001b[0m\u001b[1;33m(\u001b[0m\u001b[1;36m0\u001b[0m\u001b[1;33m,\u001b[0m\u001b[0mlen\u001b[0m\u001b[1;33m(\u001b[0m\u001b[0mdf_pe\u001b[0m\u001b[1;33m[\u001b[0m\u001b[1;34m'Sentido en num'\u001b[0m\u001b[1;33m]\u001b[0m\u001b[1;33m)\u001b[0m\u001b[1;33m)\u001b[0m\u001b[1;33m]\u001b[0m\u001b[1;33m\u001b[0m\u001b[1;33m\u001b[0m\u001b[0m\n\u001b[0m",
      "\u001b[1;32m<ipython-input-176-547afeb91e35>\u001b[0m in \u001b[0;36m<listcomp>\u001b[1;34m(.0)\u001b[0m\n\u001b[1;32m----> 1\u001b[1;33m \u001b[0mdf_pe\u001b[0m\u001b[1;33m[\u001b[0m\u001b[1;34m'Sentido_C'\u001b[0m\u001b[1;33m]\u001b[0m \u001b[1;33m=\u001b[0m \u001b[1;33m[\u001b[0m\u001b[0mconteo_velas\u001b[0m\u001b[1;33m(\u001b[0m\u001b[0mstr\u001b[0m\u001b[1;33m(\u001b[0m\u001b[0mdf_pe\u001b[0m\u001b[1;33m[\u001b[0m\u001b[1;34m'Sentido en num'\u001b[0m\u001b[1;33m]\u001b[0m\u001b[1;33m[\u001b[0m\u001b[0mi\u001b[0m\u001b[1;33m]\u001b[0m\u001b[1;33m)\u001b[0m\u001b[1;33m)\u001b[0m \u001b[1;32mfor\u001b[0m \u001b[0mi\u001b[0m \u001b[1;32min\u001b[0m \u001b[0mrange\u001b[0m\u001b[1;33m(\u001b[0m\u001b[1;36m0\u001b[0m\u001b[1;33m,\u001b[0m\u001b[0mlen\u001b[0m\u001b[1;33m(\u001b[0m\u001b[0mdf_pe\u001b[0m\u001b[1;33m[\u001b[0m\u001b[1;34m'Sentido en num'\u001b[0m\u001b[1;33m]\u001b[0m\u001b[1;33m)\u001b[0m\u001b[1;33m)\u001b[0m\u001b[1;33m]\u001b[0m\u001b[1;33m\u001b[0m\u001b[1;33m\u001b[0m\u001b[0m\n\u001b[0m",
      "\u001b[1;31mTypeError\u001b[0m: conteo_velas() missing 2 required positional arguments: 'alcista' and 'bajista'"
     ]
    }
   ],
   "source": [
    "df_pe['Sentido_C'] = [conteo_velas(str(df_pe['Sentido en num'][i])) for i in range(0,len(df_pe['Sentido en num']))]"
   ]
  },
  {
   "cell_type": "code",
   "execution_count": null,
   "metadata": {
    "collapsed": true
   },
   "outputs": [],
   "source": [
    "def sentido_c(sentido_int):\n",
    "    for i in range(0, len(df_pe['Sentido en num'])):\n",
    "        sentidos = sentido_int[i] + sentido_int[i+1]\n",
    "        if sentido_int[i] == sentido_int[i+1]:\n",
    "            sentido_c[i] = np.sum(abs(sentidos))\n",
    "        elif sentido_int[i] != sentido_int[i+1]:\n",
    "            sentido_c = 0"
   ]
  },
  {
   "cell_type": "code",
   "execution_count": 153,
   "metadata": {
    "collapsed": true
   },
   "outputs": [],
   "source": [
    "#df_pe['sentido_c'] = sum(abs(sentido_int[i])-1 if sentido_int[i] > 0 else 0 for i in range(len(sentido_int)))"
   ]
  },
  {
   "cell_type": "code",
   "execution_count": 154,
   "metadata": {
    "collapsed": true
   },
   "outputs": [],
   "source": [
    "#sum( abs(xRatings[i] - yRatings[i]) for i in range(len(xRatings)))"
   ]
  },
  {
   "cell_type": "code",
   "execution_count": 155,
   "metadata": {
    "collapsed": true
   },
   "outputs": [],
   "source": [
    "df_pe['sentido_c'] = [sentido_int(int(df_pe['Sentido en num'][i])) for i in range(0, len(df_pe['Sentido en num']))]"
   ]
  },
  {
   "cell_type": "code",
   "execution_count": 156,
   "metadata": {},
   "outputs": [
    {
     "data": {
      "text/html": [
       "<div>\n",
       "<style scoped>\n",
       "    .dataframe tbody tr th:only-of-type {\n",
       "        vertical-align: middle;\n",
       "    }\n",
       "\n",
       "    .dataframe tbody tr th {\n",
       "        vertical-align: top;\n",
       "    }\n",
       "\n",
       "    .dataframe thead th {\n",
       "        text-align: right;\n",
       "    }\n",
       "</style>\n",
       "<table border=\"1\" class=\"dataframe\">\n",
       "  <thead>\n",
       "    <tr style=\"text-align: right;\">\n",
       "      <th></th>\n",
       "      <th>TimeStamp</th>\n",
       "      <th>Open</th>\n",
       "      <th>High</th>\n",
       "      <th>Low</th>\n",
       "      <th>Close</th>\n",
       "      <th>Hora</th>\n",
       "      <th>Dia</th>\n",
       "      <th>CO</th>\n",
       "      <th>Mes</th>\n",
       "      <th>Sesión de la vela</th>\n",
       "      <th>OC</th>\n",
       "      <th>HL</th>\n",
       "      <th>Sentido de la vela</th>\n",
       "      <th>Sentido en num</th>\n",
       "      <th>sentido_c</th>\n",
       "    </tr>\n",
       "  </thead>\n",
       "  <tbody>\n",
       "    <tr>\n",
       "      <th>0</th>\n",
       "      <td>2019-07-05 20:00:00+00:00</td>\n",
       "      <td>1.12264</td>\n",
       "      <td>1.12278</td>\n",
       "      <td>1.12247</td>\n",
       "      <td>1.12255</td>\n",
       "      <td>20</td>\n",
       "      <td>4</td>\n",
       "      <td>-0.9</td>\n",
       "      <td>7</td>\n",
       "      <td>America</td>\n",
       "      <td>0.9</td>\n",
       "      <td>3.1</td>\n",
       "      <td>alcista</td>\n",
       "      <td>1</td>\n",
       "      <td>-1</td>\n",
       "    </tr>\n",
       "    <tr>\n",
       "      <th>1</th>\n",
       "      <td>2019-07-07 20:00:00+00:00</td>\n",
       "      <td>1.12248</td>\n",
       "      <td>1.12344</td>\n",
       "      <td>1.12071</td>\n",
       "      <td>1.12093</td>\n",
       "      <td>20</td>\n",
       "      <td>6</td>\n",
       "      <td>-15.5</td>\n",
       "      <td>7</td>\n",
       "      <td>America</td>\n",
       "      <td>15.5</td>\n",
       "      <td>27.3</td>\n",
       "      <td>bajista</td>\n",
       "      <td>-1</td>\n",
       "      <td>-1</td>\n",
       "    </tr>\n",
       "    <tr>\n",
       "      <th>2</th>\n",
       "      <td>2019-07-08 20:00:00+00:00</td>\n",
       "      <td>1.12095</td>\n",
       "      <td>1.12188</td>\n",
       "      <td>1.11935</td>\n",
       "      <td>1.12066</td>\n",
       "      <td>20</td>\n",
       "      <td>0</td>\n",
       "      <td>-2.9</td>\n",
       "      <td>7</td>\n",
       "      <td>America</td>\n",
       "      <td>2.9</td>\n",
       "      <td>25.3</td>\n",
       "      <td>bajista</td>\n",
       "      <td>-1</td>\n",
       "      <td>-1</td>\n",
       "    </tr>\n",
       "    <tr>\n",
       "      <th>3</th>\n",
       "      <td>2019-07-09 20:00:00+00:00</td>\n",
       "      <td>1.12070</td>\n",
       "      <td>1.12643</td>\n",
       "      <td>1.12020</td>\n",
       "      <td>1.12536</td>\n",
       "      <td>20</td>\n",
       "      <td>1</td>\n",
       "      <td>46.6</td>\n",
       "      <td>7</td>\n",
       "      <td>America</td>\n",
       "      <td>-46.6</td>\n",
       "      <td>62.3</td>\n",
       "      <td>alcista</td>\n",
       "      <td>1</td>\n",
       "      <td>-1</td>\n",
       "    </tr>\n",
       "    <tr>\n",
       "      <th>4</th>\n",
       "      <td>2019-07-10 20:00:00+00:00</td>\n",
       "      <td>1.12533</td>\n",
       "      <td>1.12858</td>\n",
       "      <td>1.12454</td>\n",
       "      <td>1.12570</td>\n",
       "      <td>20</td>\n",
       "      <td>2</td>\n",
       "      <td>3.7</td>\n",
       "      <td>7</td>\n",
       "      <td>America</td>\n",
       "      <td>-3.7</td>\n",
       "      <td>40.4</td>\n",
       "      <td>alcista</td>\n",
       "      <td>1</td>\n",
       "      <td>-1</td>\n",
       "    </tr>\n",
       "  </tbody>\n",
       "</table>\n",
       "</div>"
      ],
      "text/plain": [
       "                  TimeStamp     Open     High      Low    Close  Hora  Dia  \\\n",
       "0 2019-07-05 20:00:00+00:00  1.12264  1.12278  1.12247  1.12255    20    4   \n",
       "1 2019-07-07 20:00:00+00:00  1.12248  1.12344  1.12071  1.12093    20    6   \n",
       "2 2019-07-08 20:00:00+00:00  1.12095  1.12188  1.11935  1.12066    20    0   \n",
       "3 2019-07-09 20:00:00+00:00  1.12070  1.12643  1.12020  1.12536    20    1   \n",
       "4 2019-07-10 20:00:00+00:00  1.12533  1.12858  1.12454  1.12570    20    2   \n",
       "\n",
       "     CO  Mes Sesión de la vela    OC    HL Sentido de la vela  Sentido en num  \\\n",
       "0  -0.9    7           America   0.9   3.1            alcista               1   \n",
       "1 -15.5    7           America  15.5  27.3            bajista              -1   \n",
       "2  -2.9    7           America   2.9  25.3            bajista              -1   \n",
       "3  46.6    7           America -46.6  62.3            alcista               1   \n",
       "4   3.7    7           America  -3.7  40.4            alcista               1   \n",
       "\n",
       "   sentido_c  \n",
       "0         -1  \n",
       "1         -1  \n",
       "2         -1  \n",
       "3         -1  \n",
       "4         -1  "
      ]
     },
     "execution_count": 156,
     "metadata": {},
     "output_type": "execute_result"
    }
   ],
   "source": [
    "df_pe.head()"
   ]
  },
  {
   "cell_type": "markdown",
   "metadata": {},
   "source": [
    "##### (1pt) Ventanas móviles de volatilidad\n",
    "Utiliza la columna de ['hl'] como una medida de \"volatilidad\" en pips de las velas. Con esta columna, genera las siguientes columnas haciendo una \"ventana móvil\" del máximo de esos últimos n valores. Las columnas serán 3, una para cada valor de la \"volatilidad móvil\" para 5, 25 y 50 velas de histórico respectivamente.\n",
    "\n",
    "* ['volatilidad_5']: Utilizando la información de las 5 anteriores velas.\n",
    "* ['volatilidad_25']: Utilizando la información de las 25 anteriores velas.\n",
    "* ['volatilidad_50']: Utilizando la información de las 50 anteriores velas.\n",
    "Recuerda que la \"volatilidad\" en una serie de tiempo financiera es, usualmente, la desviación estándar de los rendimientos, sin embargo, uno puedeo proponer otros \"estadísticos\" para representar la \"variabilidad\" entre los datos. En este caso, probaremos generar esta información sólo tomando en cuenta la columna ['hl']. Así que, no es necesario calcular rendimientos en esta ocasión."
   ]
  },
  {
   "cell_type": "markdown",
   "metadata": {},
   "source": [
    "Se calcula la volatilidad de la rentabilidad de la divisa que estamos manejando, utilizando ventanas móviles de una determinada amplitud, en este caso sería de 5, 25 y 50 períodos. La ventana se va desplazando a lo largo de la muestra conforme avanza el tiempo y en cada período se calcula la volatilidad de las rentabilidades observadas en el período de tiempo indicados. Así se va construyendo una serie temporal de volatilidades para cada amplitud de ventana."
   ]
  },
  {
   "cell_type": "code",
   "execution_count": 177,
   "metadata": {},
   "outputs": [
    {
     "data": {
      "text/plain": [
       "0            NaN\n",
       "1            NaN\n",
       "2            NaN\n",
       "3            NaN\n",
       "4      21.738951\n",
       "         ...    \n",
       "126    15.743316\n",
       "127    30.876577\n",
       "128    31.222860\n",
       "129    29.801728\n",
       "130    30.071166\n",
       "Name: HL, Length: 131, dtype: float64"
      ]
     },
     "execution_count": 177,
     "metadata": {},
     "output_type": "execute_result"
    }
   ],
   "source": [
    "# Para calcular las ventanas móviles existe una función llamada rolling que va haciendo \"móvil\" la ventana, moviéndola de lugar\n",
    "# en el período de tiempo indicado, calculando la desviación estándar/volatilidad entre las velas\n",
    "\n",
    "volatilidad_5 = df_pe['HL'].rolling(window=5).std()\n",
    "volatilidad_25 = df_pe['HL'].rolling(window=25).std()\n",
    "volatilidad_50 = df_pe['HL'].rolling(window=50).std()\n",
    "\n",
    "volatilidad_5\n",
    "#volatilidad_25\n",
    "#volatilidad_50"
   ]
  },
  {
   "cell_type": "markdown",
   "metadata": {},
   "source": [
    "##### (1pt) Gráfica con Plotly\n",
    "Realiza una propuesta de gráfica utilizando alguna de las columnas que has generado y la librería plotly. Las reglas son las siguientes:\n",
    "\n",
    "1. Tiene que tener título de gráfica\n",
    "2. Tiene que tener título de eje x y etiquetas de eje x\n",
    "3. Tiene que tener título de eje y y etiquetas de eje y\n",
    "4. Se debe de poder visualizar una leyenda (en cualquier posición).\n",
    " "
   ]
  },
  {
   "cell_type": "markdown",
   "metadata": {},
   "source": [
    "Realicé una gráfica de pastel donde debe de calcular qué porcentaje de la columna del sentido de las velas es alcista y qué porcentaje es bajista."
   ]
  },
  {
   "cell_type": "code",
   "execution_count": 158,
   "metadata": {
    "collapsed": true
   },
   "outputs": [],
   "source": [
    "fig = px.pie(data_frame=df_pe, values='Sentido de la vela', labels={'alcista', 'bajista'}, title='Sentido de las velas')\n",
    "fig.show()"
   ]
  },
  {
   "cell_type": "code",
   "execution_count": null,
   "metadata": {
    "collapsed": true
   },
   "outputs": [],
   "source": []
  },
  {
   "cell_type": "code",
   "execution_count": null,
   "metadata": {
    "collapsed": true
   },
   "outputs": [],
   "source": []
  },
  {
   "cell_type": "code",
   "execution_count": null,
   "metadata": {
    "collapsed": true
   },
   "outputs": [],
   "source": []
  },
  {
   "cell_type": "code",
   "execution_count": null,
   "metadata": {
    "collapsed": true
   },
   "outputs": [],
   "source": []
  }
 ],
 "metadata": {
  "kernelspec": {
   "display_name": "Python 3",
   "language": "python",
   "name": "python3"
  },
  "language_info": {
   "codemirror_mode": {
    "name": "ipython",
    "version": 3
   },
   "file_extension": ".py",
   "mimetype": "text/x-python",
   "name": "python",
   "nbconvert_exporter": "python",
   "pygments_lexer": "ipython3",
   "version": "3.6.8"
  }
 },
 "nbformat": 4,
 "nbformat_minor": 2
}
